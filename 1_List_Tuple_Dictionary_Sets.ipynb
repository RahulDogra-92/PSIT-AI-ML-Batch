{
 "cells": [
  {
   "cell_type": "markdown",
   "metadata": {
    "colab_type": "text",
    "id": "view-in-github"
   },
   "source": [
    "<a href=\"https://colab.research.google.com/github/avs20/SioLabsPython0/blob/main/5_Sequences_Strings_and_Lists.ipynb\" target=\"_parent\"><img src=\"https://colab.research.google.com/assets/colab-badge.svg\" alt=\"Open In Colab\"/></a>"
   ]
  },
  {
   "cell_type": "markdown",
   "metadata": {
    "id": "cmnYCaHoQeDn"
   },
   "source": [
    "## Lists in Python \n",
    "\n",
    "List is a sequence of python objects. \n",
    "\n",
    "What objects we have seen \n",
    "\n",
    "* int \n",
    "* float \n",
    "* string \n",
    "* boolean\n",
    "\n",
    "### How to create a list \n",
    "\n",
    "There are many ways simplest is to use `[]`\n",
    "\n",
    "```\n",
    "mylist = [10, 20, 30]\n",
    "print(mylist)\n",
    "```\n",
    "\n"
   ]
  },
  {
   "cell_type": "code",
   "execution_count": 2,
   "metadata": {
    "colab": {
     "base_uri": "https://localhost:8080/"
    },
    "id": "nNKHTCVhQyg8",
    "outputId": "1c002179-c644-41fb-c98e-e6922fc22be9"
   },
   "outputs": [
    {
     "name": "stdout",
     "output_type": "stream",
     "text": [
      "[10, 20, 30]\n"
     ]
    }
   ],
   "source": [
    "mylist = [ 10, 20, 30 ]\n",
    "\n",
    "print(mylist)"
   ]
  },
  {
   "cell_type": "code",
   "execution_count": 3,
   "metadata": {
    "colab": {
     "base_uri": "https://localhost:8080/"
    },
    "id": "AXyFBveJo8_g",
    "outputId": "0eb0c484-cae3-42cc-d08a-f0f3c8ad3053"
   },
   "outputs": [
    {
     "name": "stdout",
     "output_type": "stream",
     "text": [
      "[10, 20, 10.5]\n"
     ]
    }
   ],
   "source": [
    "mylist2 = [10, 20, 10.5]\n",
    "print(mylist2)"
   ]
  },
  {
   "cell_type": "code",
   "execution_count": 4,
   "metadata": {
    "colab": {
     "base_uri": "https://localhost:8080/"
    },
    "id": "gO80X_1lpL_p",
    "outputId": "a273c880-11f9-4bf4-88c6-e58840e01640"
   },
   "outputs": [
    {
     "name": "stdout",
     "output_type": "stream",
     "text": [
      "[10, 20.5, 'python']\n"
     ]
    }
   ],
   "source": [
    "mylist3 = [ 10, 20.5 , 'python']\n",
    "print(mylist3)"
   ]
  },
  {
   "cell_type": "code",
   "execution_count": 5,
   "metadata": {
    "colab": {
     "base_uri": "https://localhost:8080/"
    },
    "id": "j1bJ_rGJpUB8",
    "outputId": "06b03245-8c49-4bb5-88af-f9b5b448b220"
   },
   "outputs": [
    {
     "name": "stdout",
     "output_type": "stream",
     "text": [
      "[10, 20.5, 'python', True]\n"
     ]
    }
   ],
   "source": [
    "mylist4 = [ 10, 20.5 , 'python', True]\n",
    "print(mylist4)"
   ]
  },
  {
   "cell_type": "markdown",
   "metadata": {
    "id": "d6Rjfl7NQyoV"
   },
   "source": [
    "Empty List \n",
    "\n",
    "```\n",
    "mylist = []\n",
    "```\n",
    "\n"
   ]
  },
  {
   "cell_type": "code",
   "execution_count": 8,
   "metadata": {
    "colab": {
     "base_uri": "https://localhost:8080/"
    },
    "id": "f8wk1wUJQ1bw",
    "outputId": "0204c53b-dca5-48ef-cd1d-b0ddf6de3829"
   },
   "outputs": [
    {
     "name": "stdout",
     "output_type": "stream",
     "text": [
      "[]\n"
     ]
    }
   ],
   "source": [
    "mylist5 = []\n",
    "print(mylist5)"
   ]
  },
  {
   "cell_type": "markdown",
   "metadata": {
    "id": "vtoKTqZsQ1kw"
   },
   "source": [
    "We can use for loop to go over each item in list \n"
   ]
  },
  {
   "cell_type": "code",
   "execution_count": 10,
   "metadata": {
    "colab": {
     "base_uri": "https://localhost:8080/"
    },
    "id": "FEqIHHWeQ8Yp",
    "outputId": "cb1960d5-bd8a-4977-b5f5-02eb1fe78dff"
   },
   "outputs": [
    {
     "name": "stdout",
     "output_type": "stream",
     "text": [
      "banana\n",
      "BANANA\n",
      "apple\n",
      "APPLE\n",
      "orange\n",
      "ORANGE\n",
      "kiwi\n",
      "KIWI\n",
      "mango\n",
      "MANGO\n"
     ]
    }
   ],
   "source": [
    "fruits = ['banana', 'apple', 'orange', 'kiwi', 'mango']\n",
    "\n",
    "for fruit in fruits:\n",
    "  print(fruit)\n",
    "  print(fruit.upper())"
   ]
  },
  {
   "cell_type": "code",
   "execution_count": 11,
   "metadata": {
    "colab": {
     "base_uri": "https://localhost:8080/"
    },
    "id": "8xEIUssFqTzX",
    "outputId": "749e8a01-235b-4ba8-bd43-c40703dc6ab5"
   },
   "outputs": [
    {
     "name": "stdout",
     "output_type": "stream",
     "text": [
      "10\n",
      "<class 'int'>\n",
      "10.5\n",
      "<class 'float'>\n",
      "orange\n",
      "<class 'str'>\n",
      "True\n",
      "<class 'bool'>\n"
     ]
    }
   ],
   "source": [
    "fruits = [10, 10.5, 'orange', True]\n",
    "\n",
    "for fruit in fruits:\n",
    "  print(fruit)\n",
    "  print(type(fruit))\n",
    "  "
   ]
  },
  {
   "cell_type": "code",
   "execution_count": 12,
   "metadata": {
    "colab": {
     "base_uri": "https://localhost:8080/"
    },
    "id": "l4To-PwHqkBy",
    "outputId": "65db80d1-e37b-4c28-fa7e-3d7d35877013"
   },
   "outputs": [
    {
     "name": "stdout",
     "output_type": "stream",
     "text": [
      "10\n"
     ]
    }
   ],
   "source": [
    "mylist7 = [10, 10.5, 'orange', True]\n",
    "\n",
    "print(mylist7[0])\n",
    "\n"
   ]
  },
  {
   "cell_type": "code",
   "execution_count": 13,
   "metadata": {
    "colab": {
     "base_uri": "https://localhost:8080/"
    },
    "id": "fQ2wcb5tqwBJ",
    "outputId": "801d6dd2-f18c-4817-b5e9-d0d7470b27d3"
   },
   "outputs": [
    {
     "name": "stdout",
     "output_type": "stream",
     "text": [
      "True\n"
     ]
    }
   ],
   "source": [
    "print(mylist7[3])"
   ]
  },
  {
   "cell_type": "code",
   "execution_count": 14,
   "metadata": {
    "colab": {
     "base_uri": "https://localhost:8080/"
    },
    "id": "UeOAT6s0q6XJ",
    "outputId": "e7a95c14-99f6-42d1-94fa-5b07b99c8237"
   },
   "outputs": [
    {
     "name": "stdout",
     "output_type": "stream",
     "text": [
      "[10, 10.5, 'orange', True]\n"
     ]
    }
   ],
   "source": [
    "mylist8 = [10, 10.5, 'orange', True]\n",
    "\n",
    "print(mylist8[:])"
   ]
  },
  {
   "cell_type": "code",
   "execution_count": 15,
   "metadata": {
    "colab": {
     "base_uri": "https://localhost:8080/"
    },
    "id": "u7PJL59wrA5z",
    "outputId": "842baab4-0d26-4ac7-91f7-7deaecaff360"
   },
   "outputs": [
    {
     "name": "stdout",
     "output_type": "stream",
     "text": [
      "[10, 10.5]\n"
     ]
    }
   ],
   "source": [
    "mylist8 = [10, 10.5, 'orange', True]\n",
    "\n",
    "print(mylist8[0:2])"
   ]
  },
  {
   "cell_type": "code",
   "execution_count": 16,
   "metadata": {
    "colab": {
     "base_uri": "https://localhost:8080/"
    },
    "id": "fwHi-4_qrSVC",
    "outputId": "7b3b44bb-7e2e-4642-9090-ddc012e3264e"
   },
   "outputs": [
    {
     "name": "stdout",
     "output_type": "stream",
     "text": [
      "[10, 10.5, 'orange', True]\n"
     ]
    }
   ],
   "source": [
    "mylist8 = [10, 10.5, 'orange', True]\n",
    "\n",
    "print(mylist8[0:])"
   ]
  },
  {
   "cell_type": "code",
   "execution_count": 17,
   "metadata": {
    "colab": {
     "base_uri": "https://localhost:8080/"
    },
    "id": "KSmi1uRlrWgy",
    "outputId": "f9e05afb-f906-4041-8a43-1989db8db975"
   },
   "outputs": [
    {
     "name": "stdout",
     "output_type": "stream",
     "text": [
      "['orange', True]\n"
     ]
    }
   ],
   "source": [
    "mylist8 = [10, 10.5, 'orange', True]\n",
    "\n",
    "print(mylist8[2:])"
   ]
  },
  {
   "cell_type": "markdown",
   "metadata": {
    "id": "qSmx1dhlQ8hy"
   },
   "source": [
    "Lists are mutable → we can change items in a list unlike string \n",
    "\n"
   ]
  },
  {
   "cell_type": "code",
   "execution_count": 19,
   "metadata": {
    "colab": {
     "base_uri": "https://localhost:8080/"
    },
    "id": "F5vZ7gcrRBpy",
    "outputId": "4aa2cc47-44af-443b-dfd5-735ae7a0bebf"
   },
   "outputs": [
    {
     "name": "stdout",
     "output_type": "stream",
     "text": [
      "[10, 10.5, 'orange', True]\n",
      "140039407832904\n",
      "140039407832904\n"
     ]
    }
   ],
   "source": [
    "mylist10 = [10, 10.5, 'orange', True]\n",
    "\n",
    "print(mylist10)\n",
    "print(id(mylist10))\n",
    "\n",
    "\n",
    "mylist10[2] = 'mango'\n",
    "\n",
    "print(id(mylist10))\n"
   ]
  },
  {
   "cell_type": "markdown",
   "metadata": {
    "id": "RBgl2KwMRBxY"
   },
   "source": [
    "Mathematical operator on list \n",
    "-----\n",
    "\n",
    "1. `+` operator → concatenates 2 list \n",
    "2. `*` operator → replicates the list n times"
   ]
  },
  {
   "cell_type": "code",
   "execution_count": 20,
   "metadata": {
    "colab": {
     "base_uri": "https://localhost:8080/"
    },
    "id": "Leb5oKpGRLs8",
    "outputId": "773c6998-857d-4d0e-8fe8-14be6c5138d0"
   },
   "outputs": [
    {
     "name": "stdout",
     "output_type": "stream",
     "text": [
      "ashutosh\n"
     ]
    }
   ],
   "source": [
    "print('ashu' + 'tosh')"
   ]
  },
  {
   "cell_type": "code",
   "execution_count": 21,
   "metadata": {
    "colab": {
     "base_uri": "https://localhost:8080/"
    },
    "id": "UWNl9ua2sSbh",
    "outputId": "7e955b11-421b-4dde-e858-06bba6918e68"
   },
   "outputs": [
    {
     "name": "stdout",
     "output_type": "stream",
     "text": [
      "[10, 20, 30, 'banana', 'mango']\n"
     ]
    }
   ],
   "source": [
    "mylist1 = [10,20,30]\n",
    "mylist2 = ['banana', 'mango']\n",
    "\n",
    "mylist3 = mylist1 + mylist2\n",
    "print(mylist3)"
   ]
  },
  {
   "cell_type": "code",
   "execution_count": 22,
   "metadata": {
    "colab": {
     "base_uri": "https://localhost:8080/",
     "height": 36
    },
    "id": "xq04sMJ1skuG",
    "outputId": "d68c05b9-f707-422d-d5af-bdfaea9c7628"
   },
   "outputs": [
    {
     "data": {
      "application/vnd.google.colaboratory.intrinsic+json": {
       "type": "string"
      },
      "text/plain": [
       "'ashuashuashu'"
      ]
     },
     "execution_count": 22,
     "metadata": {
      "tags": []
     },
     "output_type": "execute_result"
    }
   ],
   "source": [
    "'ashu' * 3 "
   ]
  },
  {
   "cell_type": "code",
   "execution_count": 25,
   "metadata": {
    "colab": {
     "base_uri": "https://localhost:8080/"
    },
    "id": "YaIbrOhAsopC",
    "outputId": "86484b2c-1e9c-4435-d2cb-96c302e87a3b"
   },
   "outputs": [
    {
     "name": "stdout",
     "output_type": "stream",
     "text": [
      "[10, 20, 30, 10, 20, 30, 10, 20, 30]\n"
     ]
    }
   ],
   "source": [
    "mylist1 = [10,20,30]\n",
    "\n",
    "mylist2 = mylist1 * 3\n",
    "print(mylist2)"
   ]
  },
  {
   "cell_type": "markdown",
   "metadata": {
    "id": "WN0cB4_qRL3o"
   },
   "source": [
    "*Slicing* in Lists \n",
    "\n",
    "Same as string \n"
   ]
  },
  {
   "cell_type": "markdown",
   "metadata": {
    "id": "ZHH7OzougXz3"
   },
   "source": [
    "#### Slicing with stepping \n",
    "\n",
    "\n",
    "[startIdx : endIdx : step]\n",
    "\n",
    "banana\n",
    "\n"
   ]
  },
  {
   "cell_type": "code",
   "execution_count": 26,
   "metadata": {
    "colab": {
     "base_uri": "https://localhost:8080/",
     "height": 36
    },
    "id": "x_SNv9VxRPO8",
    "outputId": "6e8478dd-1706-4a7b-f2cb-71dfcf372f3a"
   },
   "outputs": [
    {
     "data": {
      "application/vnd.google.colaboratory.intrinsic+json": {
       "type": "string"
      },
      "text/plain": [
       "'ashutosh'"
      ]
     },
     "execution_count": 26,
     "metadata": {
      "tags": []
     },
     "output_type": "execute_result"
    }
   ],
   "source": [
    "name = \"ashutosh\"\n",
    "\n",
    "name[0:8]"
   ]
  },
  {
   "cell_type": "code",
   "execution_count": 27,
   "metadata": {
    "colab": {
     "base_uri": "https://localhost:8080/",
     "height": 36
    },
    "id": "ZEYXTfa-tFSj",
    "outputId": "a04574ed-904a-4492-93b6-88c1f3247811"
   },
   "outputs": [
    {
     "data": {
      "application/vnd.google.colaboratory.intrinsic+json": {
       "type": "string"
      },
      "text/plain": [
       "'ashutosh'"
      ]
     },
     "execution_count": 27,
     "metadata": {
      "tags": []
     },
     "output_type": "execute_result"
    }
   ],
   "source": [
    "name[0:8:1]"
   ]
  },
  {
   "cell_type": "code",
   "execution_count": 28,
   "metadata": {
    "colab": {
     "base_uri": "https://localhost:8080/",
     "height": 36
    },
    "id": "jvdtJskytJdq",
    "outputId": "e9c4245c-4448-4227-c6f8-d04917ec5461"
   },
   "outputs": [
    {
     "data": {
      "application/vnd.google.colaboratory.intrinsic+json": {
       "type": "string"
      },
      "text/plain": [
       "'ahts'"
      ]
     },
     "execution_count": 28,
     "metadata": {
      "tags": []
     },
     "output_type": "execute_result"
    }
   ],
   "source": [
    "name[0:8:2]"
   ]
  },
  {
   "cell_type": "code",
   "execution_count": 29,
   "metadata": {
    "colab": {
     "base_uri": "https://localhost:8080/",
     "height": 36
    },
    "id": "0ntPjvvrtQ4U",
    "outputId": "ac7230fc-ef86-4246-913e-bb3aff1e0c03"
   },
   "outputs": [
    {
     "data": {
      "application/vnd.google.colaboratory.intrinsic+json": {
       "type": "string"
      },
      "text/plain": [
       "'at'"
      ]
     },
     "execution_count": 29,
     "metadata": {
      "tags": []
     },
     "output_type": "execute_result"
    }
   ],
   "source": [
    "name[0:8:4]"
   ]
  },
  {
   "cell_type": "code",
   "execution_count": 30,
   "metadata": {
    "colab": {
     "base_uri": "https://localhost:8080/",
     "height": 36
    },
    "id": "Coi32ND4tUXb",
    "outputId": "76cfc356-423d-4397-dbe6-f4b31a7dd999"
   },
   "outputs": [
    {
     "data": {
      "application/vnd.google.colaboratory.intrinsic+json": {
       "type": "string"
      },
      "text/plain": [
       "''"
      ]
     },
     "execution_count": 30,
     "metadata": {
      "tags": []
     },
     "output_type": "execute_result"
    }
   ],
   "source": [
    "name[0:8:-1]"
   ]
  },
  {
   "cell_type": "code",
   "execution_count": 31,
   "metadata": {
    "colab": {
     "base_uri": "https://localhost:8080/",
     "height": 36
    },
    "id": "U2_ZpyPOtwwf",
    "outputId": "e8fb92fe-0844-42a3-8dbc-90c62ef63bca"
   },
   "outputs": [
    {
     "data": {
      "application/vnd.google.colaboratory.intrinsic+json": {
       "type": "string"
      },
      "text/plain": [
       "'h'"
      ]
     },
     "execution_count": 31,
     "metadata": {
      "tags": []
     },
     "output_type": "execute_result"
    }
   ],
   "source": [
    "name = 'ashutosh'\n",
    "\n",
    "name[-1]"
   ]
  },
  {
   "cell_type": "code",
   "execution_count": 32,
   "metadata": {
    "colab": {
     "base_uri": "https://localhost:8080/"
    },
    "id": "JnmyrxtRt890",
    "outputId": "c18e670b-63f3-4a19-a290-3e4badc3b7b7"
   },
   "outputs": [
    {
     "name": "stdout",
     "output_type": "stream",
     "text": [
      "t\n",
      "t\n"
     ]
    }
   ],
   "source": [
    "print(name[4])\n",
    "print(name[-4])"
   ]
  },
  {
   "cell_type": "code",
   "execution_count": 33,
   "metadata": {
    "colab": {
     "base_uri": "https://localhost:8080/"
    },
    "id": "WpG2flmNuCzV",
    "outputId": "2cf4d125-7241-4234-eec9-4febbc3420ba"
   },
   "outputs": [
    {
     "name": "stdout",
     "output_type": "stream",
     "text": [
      "a\n",
      "a\n"
     ]
    }
   ],
   "source": [
    "print(name[0])\n",
    "print(name[-8])"
   ]
  },
  {
   "cell_type": "code",
   "execution_count": 34,
   "metadata": {
    "colab": {
     "base_uri": "https://localhost:8080/"
    },
    "id": "Tn7H_XriuIH7",
    "outputId": "73e89e90-4566-4fcf-dedc-f135c9ebee0a"
   },
   "outputs": [
    {
     "name": "stdout",
     "output_type": "stream",
     "text": [
      "hut\n",
      "hut\n"
     ]
    }
   ],
   "source": [
    "print(name[2:5])\n",
    "print(name[-6:-3])"
   ]
  },
  {
   "cell_type": "code",
   "execution_count": 36,
   "metadata": {
    "colab": {
     "base_uri": "https://localhost:8080/",
     "height": 36
    },
    "id": "q118fbNWuX3-",
    "outputId": "47846217-811b-43b5-de9d-106334b0cfc5"
   },
   "outputs": [
    {
     "data": {
      "application/vnd.google.colaboratory.intrinsic+json": {
       "type": "string"
      },
      "text/plain": [
       "'hsotuhs'"
      ]
     },
     "execution_count": 36,
     "metadata": {
      "tags": []
     },
     "output_type": "execute_result"
    }
   ],
   "source": [
    "name[7:0:-1]"
   ]
  },
  {
   "cell_type": "code",
   "execution_count": 37,
   "metadata": {
    "colab": {
     "base_uri": "https://localhost:8080/",
     "height": 36
    },
    "id": "7lYem6Duu00X",
    "outputId": "f3c3d98f-1f63-4e03-a6d7-02dd25846ce4"
   },
   "outputs": [
    {
     "data": {
      "application/vnd.google.colaboratory.intrinsic+json": {
       "type": "string"
      },
      "text/plain": [
       "''"
      ]
     },
     "execution_count": 37,
     "metadata": {
      "tags": []
     },
     "output_type": "execute_result"
    }
   ],
   "source": [
    "name[7:0]"
   ]
  },
  {
   "cell_type": "code",
   "execution_count": 38,
   "metadata": {
    "colab": {
     "base_uri": "https://localhost:8080/",
     "height": 36
    },
    "id": "XkCNlccXu5gZ",
    "outputId": "042d5552-6a9e-4c14-d948-7e54169cefb3"
   },
   "outputs": [
    {
     "data": {
      "application/vnd.google.colaboratory.intrinsic+json": {
       "type": "string"
      },
      "text/plain": [
       "'hsotuhsa'"
      ]
     },
     "execution_count": 38,
     "metadata": {
      "tags": []
     },
     "output_type": "execute_result"
    }
   ],
   "source": [
    "name[::-1]"
   ]
  },
  {
   "cell_type": "code",
   "execution_count": 39,
   "metadata": {
    "colab": {
     "base_uri": "https://localhost:8080/"
    },
    "id": "1QNXf4Cgu-dz",
    "outputId": "885b32c7-981b-4506-acf8-036dd460bb47"
   },
   "outputs": [
    {
     "data": {
      "text/plain": [
       "[True, 'orange', 10.5, 10]"
      ]
     },
     "execution_count": 39,
     "metadata": {
      "tags": []
     },
     "output_type": "execute_result"
    }
   ],
   "source": [
    "mylist7[::-1]"
   ]
  },
  {
   "cell_type": "markdown",
   "metadata": {
    "id": "MLmFOz0egdB2"
   },
   "source": [
    "#### Reversing"
   ]
  },
  {
   "cell_type": "markdown",
   "metadata": {
    "id": "AT-XENGHRP5h"
   },
   "source": [
    "List Methods :\n",
    "\n",
    "\n",
    "1. append()\n",
    "2. extend()\n",
    "3. pop(index)\n",
    "4. pop()\n",
    "5. del[index]\n",
    "6. remove(item)\n",
    "\n",
    "\n"
   ]
  },
  {
   "cell_type": "code",
   "execution_count": 40,
   "metadata": {
    "colab": {
     "base_uri": "https://localhost:8080/"
    },
    "id": "Obob3tcPRc_C",
    "outputId": "e3471414-6fa7-4a5c-92ac-f79f44abfb73"
   },
   "outputs": [
    {
     "name": "stdout",
     "output_type": "stream",
     "text": [
      "7\n"
     ]
    }
   ],
   "source": [
    "mylist11 = ['c', 'c++','python', 'java', 'sql','c#', 'ruby']\n",
    "print(len(mylist11))"
   ]
  },
  {
   "cell_type": "code",
   "execution_count": 41,
   "metadata": {
    "colab": {
     "base_uri": "https://localhost:8080/"
    },
    "id": "omlbURHLwlbE",
    "outputId": "b30ba235-1d26-4c40-eeab-431009cc27fd"
   },
   "outputs": [
    {
     "name": "stdout",
     "output_type": "stream",
     "text": [
      "['c', 'c++', 'python', 'java', 'sql', 'c#', 'ruby', 'javascript']\n"
     ]
    }
   ],
   "source": [
    "mylist11.append('javascript')\n",
    "print(mylist11)"
   ]
  },
  {
   "cell_type": "code",
   "execution_count": 43,
   "metadata": {
    "colab": {
     "base_uri": "https://localhost:8080/"
    },
    "id": "6AIhAntQwuUc",
    "outputId": "a0e065fa-7ee9-43da-8def-fbb774d8e418"
   },
   "outputs": [
    {
     "name": "stdout",
     "output_type": "stream",
     "text": [
      "['c', 'c++', 'python', 'java', 'sql', 'c#', 'ruby', 'javascript', ['jupyter', 'colab', 'idle', 'pycharm'], ['jupyter', 'colab', 'idle', 'pycharm']]\n"
     ]
    }
   ],
   "source": [
    "# extend - adds the items of new list \n",
    "\n",
    "tool_list = ['jupyter', 'colab', 'idle', 'pycharm']\n",
    "\n",
    "mylist11.append(tool_list)\n",
    "print(mylist11)\n",
    "\n",
    "mylist11.remove(tool_list)"
   ]
  },
  {
   "cell_type": "code",
   "execution_count": 47,
   "metadata": {
    "colab": {
     "base_uri": "https://localhost:8080/"
    },
    "id": "1tH9AXzSxQQU",
    "outputId": "95080310-bcec-4f43-8076-b981c0935fa8"
   },
   "outputs": [
    {
     "name": "stdout",
     "output_type": "stream",
     "text": [
      "['c', 'c++', 'python', 'java', 'sql', 'c#', 'ruby', 'javascript']\n",
      "['c', 'c++', 'python', 'java', 'sql', 'c#', 'ruby', 'javascript', 'jupyter', 'colab', 'idle', 'pycharm']\n"
     ]
    }
   ],
   "source": [
    "print(mylist11)\n",
    "\n",
    "mylist11.extend(tool_list)\n",
    "\n",
    "print(mylist11)"
   ]
  },
  {
   "cell_type": "code",
   "execution_count": 49,
   "metadata": {
    "colab": {
     "base_uri": "https://localhost:8080/",
     "height": 73
    },
    "id": "o4bwsfITxxyU",
    "outputId": "762dd6fd-0d70-481c-da9e-8ea6b1705a1b"
   },
   "outputs": [
    {
     "name": "stdout",
     "output_type": "stream",
     "text": [
      "java\n",
      "['c', 'c++', 'sql', 'c#', 'ruby', 'javascript', 'jupyter', 'colab', 'idle', 'pycharm']\n"
     ]
    },
    {
     "data": {
      "application/vnd.google.colaboratory.intrinsic+json": {
       "type": "string"
      },
      "text/plain": [
       "'\\npop()\\ndel[index]\\nremove(item)\\n'"
      ]
     },
     "execution_count": 49,
     "metadata": {
      "tags": []
     },
     "output_type": "execute_result"
    }
   ],
   "source": [
    "# for removing things from the list \n",
    "\n",
    "# remove the item at specific position \n",
    "deleted_item = mylist11.pop(2)\n",
    "print(deleted_item)\n",
    "print(mylist11)\n",
    "'''\n",
    "pop()\n",
    "del[index]\n",
    "remove(item)\n",
    "'''"
   ]
  },
  {
   "cell_type": "code",
   "execution_count": 53,
   "metadata": {
    "colab": {
     "base_uri": "https://localhost:8080/"
    },
    "id": "1rL1J8pnyIU0",
    "outputId": "460629f6-c626-475a-8c5e-0ee9f4ee4af7"
   },
   "outputs": [
    {
     "name": "stdout",
     "output_type": "stream",
     "text": [
      "colab\n",
      "['c', 'c++', 'sql', 'c#', 'ruby', 'jupyter']\n"
     ]
    }
   ],
   "source": [
    "#deletes the last item of list\n",
    "\n",
    "deleted_item = mylist11.pop()\n",
    "print(deleted_item)\n",
    "print(mylist11)\n",
    "\n"
   ]
  },
  {
   "cell_type": "code",
   "execution_count": 52,
   "metadata": {
    "colab": {
     "base_uri": "https://localhost:8080/"
    },
    "id": "YERuDkicynHA",
    "outputId": "d4c293dd-6c16-4522-a0d8-68a9a27c8f57"
   },
   "outputs": [
    {
     "name": "stdout",
     "output_type": "stream",
     "text": [
      "['c', 'c++', 'sql', 'c#', 'ruby', 'jupyter', 'colab']\n"
     ]
    }
   ],
   "source": [
    "# remove helps us in removing by value\n",
    "\n",
    "mylist11.remove('javascript')\n",
    "print(mylist11)\n"
   ]
  },
  {
   "cell_type": "markdown",
   "metadata": {
    "id": "2BYhbYvURcbA"
   },
   "source": [
    "Functions on list \n",
    "------\n",
    "\n",
    "1. len()\n",
    "2. max()\n",
    "3. min()\n",
    "4. sum()\n",
    "5. sort()\n"
   ]
  },
  {
   "cell_type": "code",
   "execution_count": 56,
   "metadata": {
    "colab": {
     "base_uri": "https://localhost:8080/"
    },
    "id": "BxUGNVnszYXE",
    "outputId": "29f59ac3-e5d9-4b3e-d6f4-953583934530"
   },
   "outputs": [
    {
     "name": "stdout",
     "output_type": "stream",
     "text": [
      "['c', 'c++', 'sql', 'c#', 'ruby', 'jupyter']\n"
     ]
    },
    {
     "data": {
      "text/plain": [
       "6"
      ]
     },
     "execution_count": 56,
     "metadata": {
      "tags": []
     },
     "output_type": "execute_result"
    }
   ],
   "source": [
    "print(mylist11)\n",
    "len(mylist11)"
   ]
  },
  {
   "cell_type": "code",
   "execution_count": 57,
   "metadata": {
    "colab": {
     "base_uri": "https://localhost:8080/"
    },
    "id": "gAUcYFmEzhML",
    "outputId": "6b2a0493-0302-4185-b267-655c6817e7c1"
   },
   "outputs": [
    {
     "data": {
      "text/plain": [
       "31"
      ]
     },
     "execution_count": 57,
     "metadata": {
      "tags": []
     },
     "output_type": "execute_result"
    }
   ],
   "source": [
    "num_list = [24,12, 31, 16, 25, 9, 4]\n",
    "max(num_list)"
   ]
  },
  {
   "cell_type": "code",
   "execution_count": 58,
   "metadata": {
    "colab": {
     "base_uri": "https://localhost:8080/"
    },
    "id": "8SpLt3sLzpmF",
    "outputId": "fd1e27e7-8e95-4e6c-cb12-d242b4211085"
   },
   "outputs": [
    {
     "data": {
      "text/plain": [
       "4"
      ]
     },
     "execution_count": 58,
     "metadata": {
      "tags": []
     },
     "output_type": "execute_result"
    }
   ],
   "source": [
    "num_list = [24,12, 31, 16, 25, 9, 4]\n",
    "min(num_list)"
   ]
  },
  {
   "cell_type": "code",
   "execution_count": 65,
   "metadata": {
    "colab": {
     "base_uri": "https://localhost:8080/",
     "height": 191
    },
    "id": "_BmFFVJNzr8z",
    "outputId": "8210b500-c41f-460b-8732-db6cbbcdf636"
   },
   "outputs": [
    {
     "ename": "AttributeError",
     "evalue": "ignored",
     "output_type": "error",
     "traceback": [
      "\u001b[0;31m---------------------------------------------------------------------------\u001b[0m",
      "\u001b[0;31mAttributeError\u001b[0m                            Traceback (most recent call last)",
      "\u001b[0;32m<ipython-input-65-e66e68759908>\u001b[0m in \u001b[0;36m<module>\u001b[0;34m()\u001b[0m\n\u001b[1;32m      1\u001b[0m \u001b[0mnum_list\u001b[0m \u001b[0;34m=\u001b[0m \u001b[0;34m[\u001b[0m\u001b[0;36m24\u001b[0m\u001b[0;34m,\u001b[0m\u001b[0;36m12\u001b[0m\u001b[0;34m,\u001b[0m \u001b[0;36m31\u001b[0m\u001b[0;34m,\u001b[0m \u001b[0;36m16\u001b[0m\u001b[0;34m,\u001b[0m \u001b[0;36m25\u001b[0m\u001b[0;34m,\u001b[0m \u001b[0;36m9\u001b[0m\u001b[0;34m,\u001b[0m \u001b[0;36m4\u001b[0m\u001b[0;34m]\u001b[0m\u001b[0;34m\u001b[0m\u001b[0;34m\u001b[0m\u001b[0m\n\u001b[0;32m----> 2\u001b[0;31m \u001b[0mnum_list\u001b[0m\u001b[0;34m.\u001b[0m\u001b[0msum\u001b[0m\u001b[0;34m(\u001b[0m\u001b[0;34m)\u001b[0m\u001b[0;34m\u001b[0m\u001b[0;34m\u001b[0m\u001b[0m\n\u001b[0m",
      "\u001b[0;31mAttributeError\u001b[0m: 'list' object has no attribute 'sum'"
     ]
    }
   ],
   "source": [
    "num_list = [24,12, 31, 16, 25, 9, 4]\n",
    "sum(num_list)"
   ]
  },
  {
   "cell_type": "code",
   "execution_count": 60,
   "metadata": {
    "colab": {
     "base_uri": "https://localhost:8080/"
    },
    "id": "LUToMBHAzuQL",
    "outputId": "8e1ff8be-c1fb-4fac-e645-cceb77109028"
   },
   "outputs": [
    {
     "data": {
      "text/plain": [
       "17.285714285714285"
      ]
     },
     "execution_count": 60,
     "metadata": {
      "tags": []
     },
     "output_type": "execute_result"
    }
   ],
   "source": [
    "sum(num_list) / len(num_list)"
   ]
  },
  {
   "cell_type": "code",
   "execution_count": 64,
   "metadata": {
    "colab": {
     "base_uri": "https://localhost:8080/"
    },
    "id": "OtiQiZqoz0e5",
    "outputId": "8f1260d1-964b-4d3b-9634-5557c9e61023"
   },
   "outputs": [
    {
     "name": "stdout",
     "output_type": "stream",
     "text": [
      "[4, 9, 12, 16, 24, 25, 31]\n"
     ]
    }
   ],
   "source": [
    "num_list = [24,12, 31, 16, 25, 9, 4]\n",
    "num_list.sort()\n",
    "print(num_list)"
   ]
  },
  {
   "cell_type": "markdown",
   "metadata": {},
   "source": [
    "# Tuples\n",
    "\n",
    "Tuples are basically lists that can never be changed. "
   ]
  },
  {
   "cell_type": "code",
   "execution_count": 1,
   "metadata": {},
   "outputs": [
    {
     "name": "stdout",
     "output_type": "stream",
     "text": [
      "(10, 20, 30, 40, 50)\n"
     ]
    }
   ],
   "source": [
    "mytuple = 10,20,30,40,50 \n",
    "\n",
    "print(mytuple)"
   ]
  },
  {
   "cell_type": "code",
   "execution_count": 2,
   "metadata": {},
   "outputs": [
    {
     "data": {
      "text/plain": [
       "tuple"
      ]
     },
     "execution_count": 2,
     "metadata": {},
     "output_type": "execute_result"
    }
   ],
   "source": [
    "type(mytuple)"
   ]
  },
  {
   "cell_type": "code",
   "execution_count": 3,
   "metadata": {},
   "outputs": [],
   "source": [
    "mytuple2 = (10,20,30,40,50)\n"
   ]
  },
  {
   "cell_type": "code",
   "execution_count": 4,
   "metadata": {},
   "outputs": [
    {
     "data": {
      "text/plain": [
       "(10, 20, 30, 40, 50)"
      ]
     },
     "execution_count": 4,
     "metadata": {},
     "output_type": "execute_result"
    }
   ],
   "source": [
    "mytuple\n"
   ]
  },
  {
   "cell_type": "code",
   "execution_count": 5,
   "metadata": {},
   "outputs": [],
   "source": [
    "mytuple3 = 10,"
   ]
  },
  {
   "cell_type": "code",
   "execution_count": 6,
   "metadata": {},
   "outputs": [
    {
     "name": "stdout",
     "output_type": "stream",
     "text": [
      "(10,)\n"
     ]
    }
   ],
   "source": [
    "print(mytuple3)"
   ]
  },
  {
   "cell_type": "code",
   "execution_count": 7,
   "metadata": {},
   "outputs": [
    {
     "name": "stdout",
     "output_type": "stream",
     "text": [
      "10\n",
      "50\n",
      "(10, 20)\n"
     ]
    }
   ],
   "source": [
    "mytuple2 = (10,20,30,40,50)\n",
    "\n",
    "print(mytuple[0])\n",
    "print(mytuple[-1])\n",
    "print(mytuple[0:2])"
   ]
  },
  {
   "cell_type": "code",
   "execution_count": 8,
   "metadata": {},
   "outputs": [
    {
     "ename": "TypeError",
     "evalue": "'tuple' object does not support item assignment",
     "output_type": "error",
     "traceback": [
      "\u001b[0;31m---------------------------------------------------------------------------\u001b[0m",
      "\u001b[0;31mTypeError\u001b[0m                                 Traceback (most recent call last)",
      "Input \u001b[0;32mIn [8]\u001b[0m, in \u001b[0;36m<cell line: 1>\u001b[0;34m()\u001b[0m\n\u001b[0;32m----> 1\u001b[0m mytuple[\u001b[38;5;241m2\u001b[39m] \u001b[38;5;241m=\u001b[39m \u001b[38;5;241m100\u001b[39m\n",
      "\u001b[0;31mTypeError\u001b[0m: 'tuple' object does not support item assignment"
     ]
    }
   ],
   "source": [
    "z"
   ]
  },
  {
   "cell_type": "code",
   "execution_count": 9,
   "metadata": {},
   "outputs": [
    {
     "data": {
      "text/plain": [
       "(10, 20, 30, 10, 20, 34)"
      ]
     },
     "execution_count": 9,
     "metadata": {},
     "output_type": "execute_result"
    }
   ],
   "source": [
    "mytuple1 = (10,20,30)\n",
    "mytuple2 = (10,20,34)\n",
    "\n",
    "mytuple1 + mytuple2"
   ]
  },
  {
   "cell_type": "code",
   "execution_count": 10,
   "metadata": {},
   "outputs": [
    {
     "data": {
      "text/plain": [
       "(10, 20, 30, 40, 50, 10, 20, 30, 40, 50, 10, 20, 30, 40, 50)"
      ]
     },
     "execution_count": 10,
     "metadata": {},
     "output_type": "execute_result"
    }
   ],
   "source": [
    "mytuple * 3"
   ]
  },
  {
   "cell_type": "code",
   "execution_count": 11,
   "metadata": {},
   "outputs": [
    {
     "name": "stdout",
     "output_type": "stream",
     "text": [
      "True\n"
     ]
    }
   ],
   "source": [
    "mytuple1 = (10,20,30)\n",
    "mytuple2 = (10,20,34)\n",
    "\n",
    "print(mytuple1 < mytuple2)"
   ]
  },
  {
   "cell_type": "code",
   "execution_count": 12,
   "metadata": {},
   "outputs": [
    {
     "name": "stdout",
     "output_type": "stream",
     "text": [
      "True\n"
     ]
    }
   ],
   "source": [
    "mytuple1 = (10,18,30)\n",
    "mytuple2 = (10,20,100000)\n",
    "\n",
    "print(mytuple1 < mytuple2)"
   ]
  },
  {
   "cell_type": "code",
   "execution_count": 13,
   "metadata": {},
   "outputs": [
    {
     "ename": "TypeError",
     "evalue": "'<' not supported between instances of 'int' and 'str'",
     "output_type": "error",
     "traceback": [
      "\u001b[0;31m---------------------------------------------------------------------------\u001b[0m",
      "\u001b[0;31mTypeError\u001b[0m                                 Traceback (most recent call last)",
      "Input \u001b[0;32mIn [13]\u001b[0m, in \u001b[0;36m<cell line: 4>\u001b[0;34m()\u001b[0m\n\u001b[1;32m      1\u001b[0m mytuple1 \u001b[38;5;241m=\u001b[39m (\u001b[38;5;241m10\u001b[39m,\u001b[38;5;241m18\u001b[39m,\u001b[38;5;241m30\u001b[39m)\n\u001b[1;32m      2\u001b[0m mytuple2 \u001b[38;5;241m=\u001b[39m (\u001b[38;5;241m10\u001b[39m,\u001b[38;5;124m\"\u001b[39m\u001b[38;5;124mashu\u001b[39m\u001b[38;5;124m\"\u001b[39m,\u001b[38;5;241m100000\u001b[39m)\n\u001b[0;32m----> 4\u001b[0m \u001b[38;5;28mprint\u001b[39m(\u001b[43mmytuple1\u001b[49m\u001b[43m \u001b[49m\u001b[38;5;241;43m<\u001b[39;49m\u001b[43m \u001b[49m\u001b[43mmytuple2\u001b[49m)\n",
      "\u001b[0;31mTypeError\u001b[0m: '<' not supported between instances of 'int' and 'str'"
     ]
    }
   ],
   "source": [
    "mytuple1 = (10,18,30)\n",
    "mytuple2 = (10,\"ashu\",100000)\n",
    "\n",
    "print(mytuple1 < mytuple2)"
   ]
  },
  {
   "cell_type": "markdown",
   "metadata": {},
   "source": [
    "# Dictionaries"
   ]
  },
  {
   "cell_type": "code",
   "execution_count": 15,
   "metadata": {},
   "outputs": [
    {
     "name": "stdout",
     "output_type": "stream",
     "text": [
      "{}\n",
      "<class 'dict'>\n"
     ]
    }
   ],
   "source": [
    "# how to make a dictionary \n",
    "# dict()\n",
    "\n",
    "# creates empty dictionary\n",
    "mydict = dict()\n",
    "\n",
    "print(mydict)\n",
    "print(type(mydict))"
   ]
  },
  {
   "cell_type": "code",
   "execution_count": 16,
   "metadata": {},
   "outputs": [
    {
     "name": "stdout",
     "output_type": "stream",
     "text": [
      "{'breakfast': 'banana'}\n"
     ]
    }
   ],
   "source": [
    "# how to add value in dictionary\n",
    "'''\n",
    "mylist = ['apple']\n",
    "'''\n",
    "\n",
    "mydict = { 'breakfast' : 'banana'   }\n",
    "print(mydict)"
   ]
  },
  {
   "cell_type": "code",
   "execution_count": 17,
   "metadata": {},
   "outputs": [
    {
     "name": "stdout",
     "output_type": "stream",
     "text": [
      "{'breakfast': 'banana', 'lunch': 'mango'}\n"
     ]
    }
   ],
   "source": [
    "mydict['lunch'] = 'mango'\n",
    "print(mydict)"
   ]
  },
  {
   "cell_type": "code",
   "execution_count": 18,
   "metadata": {},
   "outputs": [
    {
     "name": "stdout",
     "output_type": "stream",
     "text": [
      "{'breakfast': 'banana', 'lunch': 'mango', 'snacks': 'apple', 'dinner': 'orange'}\n"
     ]
    }
   ],
   "source": [
    "mydict['snacks'] = 'apple'\n",
    "mydict['dinner'] = 'orange'\n",
    "\n",
    "print(mydict)"
   ]
  },
  {
   "cell_type": "code",
   "execution_count": 19,
   "metadata": {},
   "outputs": [
    {
     "name": "stdout",
     "output_type": "stream",
     "text": [
      "apple\n"
     ]
    }
   ],
   "source": [
    "print(mydict['snacks'])\n"
   ]
  },
  {
   "cell_type": "code",
   "execution_count": 20,
   "metadata": {},
   "outputs": [
    {
     "name": "stdout",
     "output_type": "stream",
     "text": [
      "banana\n"
     ]
    }
   ],
   "source": [
    "print(mydict['breakfast'])\n"
   ]
  },
  {
   "cell_type": "code",
   "execution_count": 21,
   "metadata": {},
   "outputs": [
    {
     "name": "stdout",
     "output_type": "stream",
     "text": [
      "{'breakfast': 'banana', 'lunch': 'mango', 'snacks': 'apple', 'dinner': 'guava'}\n"
     ]
    }
   ],
   "source": [
    "mydict['dinner'] = 'guava'\n",
    "print(mydict)"
   ]
  },
  {
   "cell_type": "code",
   "execution_count": 22,
   "metadata": {},
   "outputs": [],
   "source": [
    "del mydict['snacks']\n"
   ]
  },
  {
   "cell_type": "code",
   "execution_count": 23,
   "metadata": {},
   "outputs": [
    {
     "ename": "KeyError",
     "evalue": "'snacks'",
     "output_type": "error",
     "traceback": [
      "\u001b[0;31m---------------------------------------------------------------------------\u001b[0m",
      "\u001b[0;31mKeyError\u001b[0m                                  Traceback (most recent call last)",
      "Input \u001b[0;32mIn [23]\u001b[0m, in \u001b[0;36m<cell line: 1>\u001b[0;34m()\u001b[0m\n\u001b[0;32m----> 1\u001b[0m \u001b[38;5;28;01mdel\u001b[39;00m mydict[\u001b[38;5;124m'\u001b[39m\u001b[38;5;124msnacks\u001b[39m\u001b[38;5;124m'\u001b[39m]\n",
      "\u001b[0;31mKeyError\u001b[0m: 'snacks'"
     ]
    }
   ],
   "source": [
    "del mydict['snacks']"
   ]
  },
  {
   "cell_type": "code",
   "execution_count": 24,
   "metadata": {},
   "outputs": [
    {
     "name": "stdout",
     "output_type": "stream",
     "text": [
      "{'lunch': 'mango', 'dinner': 'guava'}\n"
     ]
    }
   ],
   "source": [
    "mydict.pop('breakfast')\n",
    "print(mydict)"
   ]
  },
  {
   "cell_type": "code",
   "execution_count": 39,
   "metadata": {},
   "outputs": [
    {
     "name": "stdout",
     "output_type": "stream",
     "text": [
      "H : 1\n",
      "i : 2\n",
      "g : 1\n",
      "h : 1\n",
      "l : 2\n",
      "a : 2\n",
      "n : 1\n",
      "d : 1\n",
      "  : 1\n",
      "Q : 1\n",
      "u : 1\n",
      "t : 1\n",
      "y : 1\n"
     ]
    }
   ],
   "source": [
    "# how to use in for loop \n",
    "\n",
    "'''\n",
    "for item in mylist:\n",
    "  print(item)\n",
    "'''\n",
    "\n",
    "for key in mydict:\n",
    "  print(key,':', mydict[key])"
   ]
  },
  {
   "cell_type": "markdown",
   "metadata": {},
   "source": [
    "lunch : mango\n",
    "dinner : guava\n",
    "dictionaries are used in counting\n",
    "\n",
    "if the key is in dictionary or not\n",
    "\n",
    "if key in mydict:"
   ]
  },
  {
   "cell_type": "code",
   "execution_count": 26,
   "metadata": {},
   "outputs": [
    {
     "name": "stdout",
     "output_type": "stream",
     "text": [
      "{'lunch': 'mango', 'dinner': 'guava'}\n"
     ]
    }
   ],
   "source": [
    "print(mydict)\n"
   ]
  },
  {
   "cell_type": "code",
   "execution_count": 27,
   "metadata": {},
   "outputs": [
    {
     "name": "stdout",
     "output_type": "stream",
     "text": [
      "snacks is NOT PRESENT in dict\n"
     ]
    }
   ],
   "source": [
    "if 'snacks' in mydict:\n",
    "    print('snacks is presnet in dict')\n",
    "else:\n",
    "    print('snacks is NOT PRESENT in dict')"
   ]
  },
  {
   "cell_type": "code",
   "execution_count": 28,
   "metadata": {},
   "outputs": [
    {
     "name": "stdout",
     "output_type": "stream",
     "text": [
      "lunch is presnet in dict\n"
     ]
    }
   ],
   "source": [
    "if 'lunch' in mydict:\n",
    "    print('lunch is presnet in dict')\n",
    "else:\n",
    "    print('lunch is NOT PRESENT in dict')"
   ]
  },
  {
   "cell_type": "code",
   "execution_count": 29,
   "metadata": {},
   "outputs": [
    {
     "data": {
      "text/plain": [
       "True"
      ]
     },
     "execution_count": 29,
     "metadata": {},
     "output_type": "execute_result"
    }
   ],
   "source": [
    "'lunch' in mydict\n"
   ]
  },
  {
   "cell_type": "code",
   "execution_count": 30,
   "metadata": {},
   "outputs": [
    {
     "data": {
      "text/plain": [
       "False"
      ]
     },
     "execution_count": 30,
     "metadata": {},
     "output_type": "execute_result"
    }
   ],
   "source": [
    "'snacks' in mydict\n"
   ]
  },
  {
   "cell_type": "markdown",
   "metadata": {},
   "source": [
    "Find the frequency of each character in the string\n",
    "\n",
    "Highland Quality"
   ]
  },
  {
   "cell_type": "code",
   "execution_count": 33,
   "metadata": {},
   "outputs": [
    {
     "name": "stdout",
     "output_type": "stream",
     "text": [
      "{'H': 1, 'i': 2, 'g': 1, 'h': 1, 'l': 2, 'a': 2, 'n': 1, 'd': 1, ' ': 1, 'Q': 1, 'u': 1, 't': 1, 'y': 1}\n"
     ]
    }
   ],
   "source": [
    "mystr = 'Highland Quality'\n",
    "\n",
    "mydict = {}\n",
    "\n",
    "for ch in mystr:\n",
    "    if ch not in mydict:\n",
    "        mydict[ch] = 1\n",
    "    else:\n",
    "        mydict[ch] = mydict[ch] + 1\n",
    "\n",
    "print(mydict)"
   ]
  },
  {
   "cell_type": "markdown",
   "metadata": {},
   "source": [
    "# Python Sets\n"
   ]
  },
  {
   "cell_type": "code",
   "execution_count": 34,
   "metadata": {},
   "outputs": [
    {
     "name": "stdout",
     "output_type": "stream",
     "text": [
      "{1, 2, 3, 4, 15}\n"
     ]
    }
   ],
   "source": [
    "s = set([15,1,2,3,4,3,1,1])\n",
    "print(s)"
   ]
  },
  {
   "cell_type": "code",
   "execution_count": 35,
   "metadata": {},
   "outputs": [
    {
     "name": "stdout",
     "output_type": "stream",
     "text": [
      "not present\n"
     ]
    }
   ],
   "source": [
    "if 14 in s:\n",
    "    print(\"present\")\n",
    "else:\n",
    "    print(\"not present\")"
   ]
  },
  {
   "cell_type": "code",
   "execution_count": 36,
   "metadata": {},
   "outputs": [
    {
     "name": "stdout",
     "output_type": "stream",
     "text": [
      "{1, 11, 5, 6}\n"
     ]
    }
   ],
   "source": [
    "s2 = {5,6,11,1,1}\n",
    "print(s2)"
   ]
  },
  {
   "cell_type": "code",
   "execution_count": 37,
   "metadata": {},
   "outputs": [
    {
     "name": "stdout",
     "output_type": "stream",
     "text": [
      "{1, 5, 6, 11, 50}\n"
     ]
    }
   ],
   "source": [
    "s2.add(50)\n",
    "print(s2)"
   ]
  },
  {
   "cell_type": "code",
   "execution_count": 38,
   "metadata": {},
   "outputs": [],
   "source": [
    "s.clear()"
   ]
  }
 ],
 "metadata": {
  "colab": {
   "authorship_tag": "ABX9TyOqwW1q422pEhvJfur01mqw",
   "include_colab_link": true,
   "name": "Sequences-Strings and Lists.ipynb",
   "provenance": []
  },
  "kernelspec": {
   "display_name": "Python 3 (ipykernel)",
   "language": "python",
   "name": "python3"
  },
  "language_info": {
   "codemirror_mode": {
    "name": "ipython",
    "version": 3
   },
   "file_extension": ".py",
   "mimetype": "text/x-python",
   "name": "python",
   "nbconvert_exporter": "python",
   "pygments_lexer": "ipython3",
   "version": "3.9.12"
  }
 },
 "nbformat": 4,
 "nbformat_minor": 1
}
